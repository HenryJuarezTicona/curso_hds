{
 "cells": [
  {
   "cell_type": "markdown",
   "metadata": {},
   "source": []
  },
  {
   "cell_type": "code",
   "execution_count": null,
   "metadata": {},
   "outputs": [],
   "source": []
  },
  {
   "cell_type": "markdown",
   "metadata": {},
   "source": [
    "a.1 "
   ]
  },
  {
   "cell_type": "code",
   "execution_count": null,
   "metadata": {},
   "outputs": [],
   "source": [
    "anchura = int(input(\"anchura del rectángulo: \"))\n",
    "altura = int(input(\"altura del rectángulo: \"))\n",
    "\n",
    "for i in range(altura):\n",
    "    for j in range(anchura):\n",
    "        print(\"* \", end=\"\")\n",
    "    print()"
   ]
  },
  {
   "cell_type": "markdown",
   "metadata": {},
   "source": [
    "a.3 "
   ]
  },
  {
   "cell_type": "code",
   "execution_count": null,
   "metadata": {},
   "outputs": [
    {
     "ename": "NameError",
     "evalue": "name '_name_' is not defined",
     "output_type": "error",
     "traceback": [
      "\u001b[1;31m---------------------------------------------------------------------------\u001b[0m",
      "\u001b[1;31mNameError\u001b[0m                                 Traceback (most recent call last)",
      "Cell \u001b[1;32mIn[15], line 16\u001b[0m\n\u001b[0;32m     13\u001b[0m         \u001b[38;5;28mprint\u001b[39m(\u001b[38;5;124m\"\u001b[39m\u001b[38;5;124mDebe ingresar un número válido.\u001b[39m\u001b[38;5;124m\"\u001b[39m)\n\u001b[0;32m     14\u001b[0m         \u001b[38;5;28;01mreturn\u001b[39;00m []\n\u001b[1;32m---> 16\u001b[0m \u001b[38;5;28;01mif\u001b[39;00m \u001b[43m_name_\u001b[49m \u001b[38;5;241m==\u001b[39m \u001b[38;5;124m\"\u001b[39m\u001b[38;5;124m_main_\u001b[39m\u001b[38;5;124m\"\u001b[39m:\n\u001b[0;32m     17\u001b[0m     lista_generada \u001b[38;5;241m=\u001b[39m crear_lista_de_palabras()\n\u001b[0;32m     18\u001b[0m     \u001b[38;5;28mprint\u001b[39m(\u001b[38;5;124m\"\u001b[39m\u001b[38;5;124mLista de palabras ingresadas:\u001b[39m\u001b[38;5;124m\"\u001b[39m, lista_generada)\n",
      "\u001b[1;31mNameError\u001b[0m: name '_name_' is not defined"
     ]
    }
   ],
   "source": [
    "def crear_lista_de_palabras():\n",
    "    try:\n",
    "        num_palabras = int(input(\"Ingrese el número de palabras que desea agregar a la lista: \"))\n",
    "        lista_palabras = []\n",
    "        \n",
    "        for i in range(num_palabras):\n",
    "            palabra = input(f\"Ingrese la palabra {i + 1}: \")\n",
    "            lista_palabras.append(palabra)\n",
    "        \n",
    "        return lista_palabras\n",
    "    \n",
    "    except ValueError:\n",
    "        print(\"Debe ingresar un número válido.\")\n",
    "        return []\n",
    "\n",
    "if _name_ == \"_main_\":\n",
    "    lista_generada = crear_lista_de_palabras()\n",
    "    print(\"Lista de palabras ingresadas:\", lista_generada)"
   ]
  },
  {
   "cell_type": "markdown",
   "metadata": {},
   "source": [
    "a.4"
   ]
  },
  {
   "cell_type": "code",
   "execution_count": null,
   "metadata": {},
   "outputs": [],
   "source": [
    "def count_words(text):\n",
    "    text = text.split()\n",
    "    words = {}\n",
    "    for i in text:\n",
    "        if i in words:\n",
    "            words[i] += 1\n",
    "        else:\n",
    "            words[i] = 1\n",
    "    return words\n",
    "\n",
    "def most_repeated(words):\n",
    "    max_word = ''\n",
    "    max_freq = 0\n",
    "    for word, freq in words.items():\n",
    "        if freq > max_freq:\n",
    "            max_word = word\n",
    "            max_freq = freq\n",
    "    return max_word, max_freq\n",
    "\n",
    "text = 'Como quieres que te quiera si el que quiero que me quiera no me quiere como quiero que me quiera'\n",
    "print(count_words(text))\n",
    "print(most_repeated(count_words(text)))"
   ]
  },
  {
   "cell_type": "markdown",
   "metadata": {},
   "source": [
    "b.3"
   ]
  },
  {
   "cell_type": "code",
   "execution_count": 23,
   "metadata": {},
   "outputs": [
    {
     "name": "stdout",
     "output_type": "stream",
     "text": [
      "usted a aprovado['HDS', 'AG', 'TPC', 'TPD']\n"
     ]
    }
   ],
   "source": [
    "cursos = [\"HDS\",\"AG\",\"DG\",\"TPC\",\"TPD\"]\n",
    "aprobado = []\n",
    "for curso in cursos:\n",
    "    nota = float(input(\"¿que nota has sado en\" + curso + \"?\" ))\n",
    "    if nota <=13:\n",
    "        aprobado.append(curso)\n",
    "for curso in aprobado:\n",
    "    cursos.remove(curso)\n",
    "print(\"usted a aprovado\" + str (cursos))"
   ]
  },
  {
   "cell_type": "markdown",
   "metadata": {},
   "source": [
    "b.4"
   ]
  },
  {
   "cell_type": "code",
   "execution_count": 18,
   "metadata": {},
   "outputs": [],
   "source": [
    "def main():\n",
    "   \n",
    "    print(\"Ingrese los números ganadores de la Tinka (ingrese 'fin' para terminar):\")\n",
    "    numeros_tinka = []\n",
    "    while True:\n",
    "        numero = input(\"Número (o 'fin' para terminar): \")\n",
    "        if numero.lower() == 'fin':\n",
    "            break\n",
    "        try:\n",
    "            numero = int(numero)\n",
    "            numeros_tinka.append(numero)\n",
    "        except ValueError:\n",
    "            print(\"Por favor, ingrese un número válido.\")\n",
    "\n",
    "    \n",
    "    numeros_tinka.sort(reverse=True)\n",
    "\n",
    "  \n",
    "    print(\"\\nNúmeros ganadores de la Tinka (ordenados de mayor a menor):\")\n",
    "    for numero in numeros_tinka:\n",
    "        print(numero)\n",
    "if __name__== \"_main_\":\n",
    "    main()"
   ]
  },
  {
   "cell_type": "markdown",
   "metadata": {},
   "source": [
    "c.1"
   ]
  },
  {
   "cell_type": "code",
   "execution_count": null,
   "metadata": {},
   "outputs": [
    {
     "ename": "SyntaxError",
     "evalue": "incomplete input (3465312289.py, line 13)",
     "output_type": "error",
     "traceback": [
      "\u001b[1;36m  Cell \u001b[1;32mIn[14], line 13\u001b[1;36m\u001b[0m\n\u001b[1;33m    print('Coste total: ', costo_total\u001b[0m\n\u001b[1;37m                                      ^\u001b[0m\n\u001b[1;31mSyntaxError\u001b[0m\u001b[1;31m:\u001b[0m incomplete input\n"
     ]
    }
   ],
   "source": [
    "Carrito= {}\n",
    "compras = 'si'\n",
    "while diccionario == 'si':\n",
    "    item = input('Introduce un artículo: ')\n",
    "    Precio = float(input('Introduce el precio de ' + item + ': '))\n",
    "    Carrito[item] = Precio\n",
    "    diccionario = input('¿Quieres añadir artículos a la lista (si/no)? ')\n",
    "costo_total = 0\n",
    "print('Lista de la compra')\n",
    "for item, price in Carrito.items():\n",
    "    print(item, '\\t', Precio)\n",
    "    costo_total += Precio\n",
    "print('Coste total: ', costo_total)"
   ]
  },
  {
   "cell_type": "markdown",
   "metadata": {},
   "source": [
    "c.2"
   ]
  },
  {
   "cell_type": "code",
   "execution_count": null,
   "metadata": {},
   "outputs": [],
   "source": [
    "facturas = {}\n",
    "cobrado = 0\n",
    "pendiente = 0\n",
    "sumando = ''\n",
    "while sumando != 'T':\n",
    "    if sumando == 'A':\n",
    "        clave = input('Introduce el numero de la factura: ')\n",
    "        valor_1 = float(input('Introduce el monto de la factura: '))\n",
    "        facturas[clave] = valor_1 * 1.18\n",
    "        pendiente +- valor_1\n",
    "    if sumando == 'P':\n",
    "        clave = input('Introduce el numero de la factura a pagar: ')\n",
    "        valor_1 = facturas.pop(clave, 0)\n",
    "        cobrado += valor_1\n",
    "        pendiente = valor_1\n",
    "    print('Recaudado:', cobrado)\n",
    "    print('Pendiente de cobro:', pendiente)\n",
    "    sumando = input('¿Quieres añadir una nueva factura (A), pagarla (P), o terminada (T)?')"
   ]
  },
  {
   "cell_type": "markdown",
   "metadata": {},
   "source": []
  }
 ],
 "metadata": {
  "kernelspec": {
   "display_name": "Python 3",
   "language": "python",
   "name": "python3"
  },
  "language_info": {
   "codemirror_mode": {
    "name": "ipython",
    "version": 3
   },
   "file_extension": ".py",
   "mimetype": "text/x-python",
   "name": "python",
   "nbconvert_exporter": "python",
   "pygments_lexer": "ipython3",
   "version": "3.12.3"
  }
 },
 "nbformat": 4,
 "nbformat_minor": 2
}
