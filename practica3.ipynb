{
 "cells": [
  {
   "cell_type": "markdown",
   "metadata": {},
   "source": [
    "o1"
   ]
  },
  {
   "cell_type": "code",
   "execution_count": 2,
   "metadata": {},
   "outputs": [
    {
     "name": "stdout",
     "output_type": "stream",
     "text": [
      "contraseña valida\n"
     ]
    }
   ],
   "source": [
    "\n",
    "contraseña = \"juarez\"\n",
    "contraseña = input(\"ingrese la contraseña\")\n",
    "if contraseña == contraseña:\n",
    "   print(\"contraseña valida\")\n",
    "else:\n",
    "   print(\"contraseña invalida\")"
   ]
  },
  {
   "cell_type": "markdown",
   "metadata": {},
   "source": [
    "jercisio 02"
   ]
  },
  {
   "cell_type": "code",
   "execution_count": 3,
   "metadata": {},
   "outputs": [
    {
     "name": "stdout",
     "output_type": "stream",
     "text": [
      "(numero1) dividido por (numero2) es iwal a (divicion)\n",
      "error los datos son incorrectos\n"
     ]
    }
   ],
   "source": [
    "numero1 = float(input(\"ingrese el primer numero\"))\n",
    "numero2 = float(input(\"ingrese elsegundo numero\"))\n",
    "if numero2 == 0:\n",
    "       print(\"error\")\n",
    "else:\n",
    "       divicion = numero1/numero2\n",
    "       print(\"(numero1) dividido por (numero2) es iwal a (divicion)\")\n",
    "print (\"error los datos son incorrectos\")"
   ]
  },
  {
   "cell_type": "markdown",
   "metadata": {},
   "source": [
    "ejecicio 3"
   ]
  },
  {
   "cell_type": "code",
   "execution_count": 4,
   "metadata": {},
   "outputs": [
    {
     "name": "stdout",
     "output_type": "stream",
     "text": [
      "usted no esta obligado a pagar inpuestos\n"
     ]
    }
   ],
   "source": [
    "edad = int(input(\"ingresar su edad\")) \n",
    "ingresomensuales = float(input(\"ingresar su ingreso mensuales:\"))\n",
    "if edad >= 18 and ingresomensuales >= 2000:\n",
    "      print(\"ustede esta abligado a pagar inpuestos \")\n",
    "else:\n",
    "      print(\"usted no esta obligado a pagar inpuestos\")"
   ]
  },
  {
   "cell_type": "markdown",
   "metadata": {},
   "source": [
    "ejercio 4"
   ]
  },
  {
   "cell_type": "code",
   "execution_count": 5,
   "metadata": {},
   "outputs": [
    {
     "name": "stdout",
     "output_type": "stream",
     "text": [
      "Perteneces al grupo a\n"
     ]
    }
   ],
   "source": [
    "nombre = input(\"¿cual es tu nombre?\")\n",
    "genero = input(\"¿cual es tu genero (m o f)?\")\n",
    "if genero ==\"m\":\n",
    "    if nombre.lower() <\"m\":\n",
    "       grupo = \"a\"\n",
    "    else:\n",
    "        grupo = \"b\"\n",
    "else:\n",
    "    if nombre.lover() >\"n\":\n",
    "        grupo = \"a\"\n",
    "    else:\n",
    "        grupo = \"b\"\n",
    "print(\"Perteneces al grupo \" + grupo)"
   ]
  },
  {
   "cell_type": "markdown",
   "metadata": {},
   "source": [
    "ejercio 5"
   ]
  },
  {
   "cell_type": "code",
   "execution_count": 7,
   "metadata": {},
   "outputs": [
    {
     "name": "stdout",
     "output_type": "stream",
     "text": [
      "El precio de la entrada para el cliente de 20 años es: 10 soles.\n"
     ]
    }
   ],
   "source": [
    "edad = int(input(\"Por favor, ingresa la edad del cliente: \"))\n",
    "\n",
    "\n",
    "if edad < 4:\n",
    "    precio_entrada = 0\n",
    "elif 4 <= edad <= 18:\n",
    "    precio_entrada = 10\n",
    "    precio_entrada = 20\n",
    "print(f\"El precio de la entrada para el cliente de {edad} años es: {precio_entrada} soles.\")"
   ]
  },
  {
   "cell_type": "markdown",
   "metadata": {},
   "source": [
    "6."
   ]
  },
  {
   "cell_type": "code",
   "execution_count": 9,
   "metadata": {},
   "outputs": [
    {
     "name": "stdout",
     "output_type": "stream",
     "text": [
      "Has cumplido 1 años\n",
      "Has cumplido 2 años\n",
      "Has cumplido 3 años\n",
      "Has cumplido 4 años\n",
      "Has cumplido 5 años\n",
      "Has cumplido 6 años\n",
      "Has cumplido 7 años\n",
      "Has cumplido 8 años\n",
      "Has cumplido 9 años\n",
      "Has cumplido 10 años\n"
     ]
    }
   ],
   "source": [
    "EDAD = int (input(\"¿Que edad tienes? \"))\n",
    "for i in range (EDAD):\n",
    "    print(\"Has cumplido \" + str(i+1) + \" años\")"
   ]
  },
  {
   "cell_type": "markdown",
   "metadata": {},
   "source": [
    "7."
   ]
  },
  {
   "cell_type": "code",
   "execution_count": 12,
   "metadata": {},
   "outputs": [
    {
     "name": "stdout",
     "output_type": "stream",
     "text": [
      "&\n",
      "&&\n",
      "&&&\n",
      "&&&&\n",
      "&&&&&\n"
     ]
    }
   ],
   "source": [
    "NUMERO = int(input(\"Escribe la altura del triangulo: \"))\n",
    "for i in range (NUMERO):\n",
    "    for j in range(i+1):\n",
    "        print(\"&\", end = \"\")\n",
    "    print(\"\")"
   ]
  },
  {
   "cell_type": "markdown",
   "metadata": {},
   "source": [
    "8."
   ]
  },
  {
   "cell_type": "code",
   "execution_count": 13,
   "metadata": {},
   "outputs": [
    {
     "name": "stdout",
     "output_type": "stream",
     "text": [
      "R\n",
      "E\n",
      "M\n",
      "O\n",
      "C\n"
     ]
    }
   ],
   "source": [
    "PALABRA = input(\"Escribe una palabra\")\n",
    "for i in range(len(PALABRA)-1, -1, -1):\n",
    "    print(PALABRA[i])"
   ]
  },
  {
   "cell_type": "markdown",
   "metadata": {},
   "source": [
    "9."
   ]
  },
  {
   "cell_type": "code",
   "execution_count": 14,
   "metadata": {},
   "outputs": [
    {
     "name": "stdout",
     "output_type": "stream",
     "text": [
      "LA LETRA A APARECE 1 VECES EN LA FRASE HOLA MUNDO\n"
     ]
    }
   ],
   "source": [
    "frase = input(\"Escribe una frase: \")\n",
    "letra = input(\"Escribe una letra\")\n",
    "contador = 0\n",
    "for i in frase:\n",
    "    if i == letra:\n",
    "        contador += 1\n",
    "print(\"LA LETRA\", letra , \"APARECE\", contador, \"VECES EN LA FRASE\", frase)"
   ]
  },
  {
   "cell_type": "markdown",
   "metadata": {},
   "source": [
    "10."
   ]
  },
  {
   "cell_type": "code",
   "execution_count": 16,
   "metadata": {},
   "outputs": [
    {
     "name": "stdout",
     "output_type": "stream",
     "text": [
      "1 \n",
      "3 1 \n",
      "5 3 1 \n",
      "7 5 3 1 \n",
      "9 7 5 3 1 \n",
      "11 9 7 5 3 1 \n",
      "13 11 9 7 5 3 1 \n",
      "15 13 11 9 7 5 3 1 \n",
      "17 15 13 11 9 7 5 3 1 \n",
      "19 17 15 13 11 9 7 5 3 1 \n"
     ]
    }
   ],
   "source": [
    "numero = int(input(\"Escribe la altura del triangulo (entero positivo): \"))\n",
    "for i in range(1, numero+1, 2):\n",
    "    for j in range(i, 0, -2):\n",
    "        print(j, end=\" \")\n",
    "    print(\"\")"
   ]
  }
 ],
 "metadata": {
  "kernelspec": {
   "display_name": "Python 3",
   "language": "python",
   "name": "python3"
  },
  "language_info": {
   "codemirror_mode": {
    "name": "ipython",
    "version": 3
   },
   "file_extension": ".py",
   "mimetype": "text/x-python",
   "name": "python",
   "nbconvert_exporter": "python",
   "pygments_lexer": "ipython3",
   "version": "3.12.3"
  }
 },
 "nbformat": 4,
 "nbformat_minor": 2
}
